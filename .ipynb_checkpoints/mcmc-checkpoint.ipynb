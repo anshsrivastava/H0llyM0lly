{
 "cells": [
  {
   "cell_type": "code",
   "execution_count": 3,
   "metadata": {},
   "outputs": [],
   "source": [
    "import numpy as np\n",
    "from scipy.constants import c"
   ]
  },
  {
   "cell_type": "markdown",
   "metadata": {},
   "source": [
    "- Data: $X_i \\equiv (\\mu_i, z_i)$\n",
    "\n",
    "- Cosmological parameters: $\\bold{\\Omega} = {\\Omega_{\\Lambda}, \\Omega_{m}, \\Omega_{k}}$\n",
    "\n",
    "- Likelihood: $$P( \\vec X| \\Omega_m, \\Omega_{\\Lambda}, \\Omega_k) \\propto \\exp \\left( -\\frac{1}{2}\\Delta \\vec \\mu \\cdot C^{-1} \\cdot \\Delta \\vec \\mu\\right)$$\n",
    "\n",
    "where\n",
    "$\\Delta  \\mu_{i} = \\mu_{i} -  \\mu_{model}(z_i; \\bold\\Omega)$"
   ]
  },
  {
   "cell_type": "code",
   "execution_count": 20,
   "metadata": {},
   "outputs": [],
   "source": [
    "# vectorized version\n",
    "\n",
    "def integrand(z,omega_k,omega_m,omega_a):\n",
    "    return 1/np.sqrt(omega_m*(1+z)**3 + omega_k*(1+z)**2 + omega_a)\n",
    "    \n",
    "def trapezoidal(upper_limit,omega_m,omega_a,number_steps=10000,lower_limit=0):\n",
    "    \n",
    "    omega_k=1-omega_m-omega_a\n",
    "    \n",
    "    summ = .5*integrand(lower_limit,omega_k,omega_m,omega_a) + .5*integrand(upper_limit,omega_k,omega_m,omega_a)\n",
    "    step_size = (upper_limit-lower_limit)/number_steps\n",
    "    #k_points = arange(lower_limit,upper_limit,h)\n",
    "    #equivalent to \n",
    "    k_points = np.linspace(lower_limit,upper_limit,int(number_steps),endpoint=False)\n",
    "\n",
    "    for _ in k_points:\n",
    "        summ += integrand(_,omega_k,omega_m,omega_a)\n",
    "    return summ*step_size\n",
    "\n",
    "def simpsons(upper_limit,omega_m,omega_a,number_steps=1000,lower_limit=0):\n",
    "    \n",
    "    number_steps=int(number_steps)\n",
    "    \n",
    "    #must have even number of steps\n",
    "    if number_steps %2!=0:\n",
    "        number_steps+=1\n",
    "        print(\"Number of steps modifed:\",number_steps)\n",
    "        \n",
    "    omega_k=1-omega_m-omega_a\n",
    "    summ = integrand(lower_limit,omega_k,omega_m,omega_a) + integrand(upper_limit,omega_k,omega_m,omega_a)\n",
    "    step_size = (upper_limit-lower_limit)/number_steps\n",
    "    \n",
    "    #sum odd values of i\n",
    "    for i in range(1,number_steps,2):\n",
    "        summ+=4*integrand(lower_limit+i*step_size,omega_k,omega_m,omega_a)\n",
    "        \n",
    "        \n",
    "    #sum even values of i\n",
    "    for i in range(2,number_steps,2):\n",
    "        summ+=2*integrand(lower_limit+i*step_size,omega_k,omega_m,omega_a)\n",
    "        \n",
    "    \n",
    "    return summ*step_size/3\n",
    "\n",
    "def luminosity_dist(z,omega_m,omega_a,H_0,number_steps=10000,method='s'):\n",
    "    \n",
    "    omega_k=1-omega_m-omega_a\n",
    "\n",
    "    d_h = c*1E-3/H_0\n",
    "    \n",
    "    if method == \"t\":\n",
    "        d_c = d_h*trapezoidal(z,omega_m,omega_a,number_steps)\n",
    "    \n",
    "    #Use Simpson's method by default \n",
    "    else:\n",
    "        d_c = d_h*simpsons(z,omega_m,omega_a,number_steps)\n",
    "    # integral value\n",
    "    #1.504993571457544*c*1E-3/H_0*(1+z)\n",
    "    \n",
    "    if omega_k>0:\n",
    "        return d_h*np.sinh(np.sqrt(omega_k)*d_c/d_h)/np.sqrt(omega_k)*(1+z)\n",
    "    \n",
    "    elif omega_k==0:\n",
    "        return d_c*(1+z)\n",
    "    \n",
    "    else:\n",
    "        return d_h*np.sin(np.sqrt(abs(omega_k))*d_c/d_h)/np.sqrt(abs(omega_k))*(1+z)\n",
    "\n",
    "#         \n",
    "\n",
    "def distance_modulus(z,omega_m,omega_a,H_0, number_steps=10000):\n",
    "    luminosity_distance = luminosity_dist(z,omega_m,omega_a,H_0,number_steps)\n",
    "    # to-do: check consistency of units\n",
    "    return 5*np.log(luminosity_distance/10) "
   ]
  },
  {
   "cell_type": "code",
   "execution_count": 21,
   "metadata": {},
   "outputs": [
    {
     "name": "stdout",
     "output_type": "stream",
     "text": [
      "looks good\n",
      "25930.213810032783\n",
      "Reference value: 25924.3\n"
     ]
    }
   ],
   "source": [
    "def test_trapezoidal_vectorization():\n",
    "    zs = np.array([1,2,3])\n",
    "    for z, output in zip(zs, trapezoidal(zs,1,1,5)):\n",
    "        assert output == trapezoidal(z,1,1,5)\n",
    "    print('looks good')\n",
    "\n",
    "\n",
    "def test_luminosity_dist_3():\n",
    "    print(luminosity_dist(3,.286,.714,69.6,100,\"s\"))\n",
    "    print(\"Reference value:\", 25924.3)\n",
    "\n",
    "test_trapezoidal_vectorization()\n",
    "test_luminosity_dist_3()\n"
   ]
  },
  {
   "cell_type": "code",
   "execution_count": 12,
   "metadata": {},
   "outputs": [],
   "source": [
    "import pandas as pd"
   ]
  },
  {
   "cell_type": "code",
   "execution_count": 13,
   "metadata": {},
   "outputs": [],
   "source": [
    "#loading data\n",
    "data=pd.read_csv('lcparam_DS17f.txt',delimiter=' ')\n",
    "cov_data = np.array(pd.read_csv('sys_DS17f.txt'))\n",
    "\n",
    "# create numpy version data\n",
    "red_shift_data = (data['zcmb']).to_numpy()\n",
    "apparent_magnitude_data = (data['mb']).to_numpy() \n",
    "apparent_magnitude_standard_errors = (data['dmb']).to_numpy()\n",
    "cov_matrix = cov_data.reshape(40, 40)\n",
    "\n"
   ]
  },
  {
   "cell_type": "code",
   "execution_count": 33,
   "metadata": {},
   "outputs": [
    {
     "data": {
      "text/plain": [
       "array([   60.96309625,    84.82788196,   116.05146523,   145.3337988 ,\n",
       "         175.80636867,   212.11115746,   251.62216393,   289.23039906,\n",
       "         327.72143141,   370.97190891,   408.86294701,   463.92530707,\n",
       "         498.72753931,   561.10211152,   603.36527819,   664.14915773,\n",
       "         728.37155301,   789.73526353,   866.43028119,   936.047803  ,\n",
       "        1024.88983327,  1108.35568424,  1215.91789816,  1304.34942344,\n",
       "        1424.10693901,  1549.54458209,  1697.35514711,  1844.81614427,\n",
       "        2005.67950144,  2225.2795324 ,  2426.55147814,  2683.85320312,\n",
       "        2983.71886425,  3384.87420847,  3789.09870842,  4494.45393028,\n",
       "        5248.36114571,  6297.35949499,  8699.75609499, 12127.97619863])"
      ]
     },
     "execution_count": 33,
     "metadata": {},
     "output_type": "execute_result"
    }
   ],
   "source": [
    "luminosity_dist(red_shift_data,.286,.714,69.6,1E2,\"s\")\n",
    "\n"
   ]
  },
  {
   "cell_type": "code",
   "execution_count": 32,
   "metadata": {},
   "outputs": [],
   "source": [
    "mu_model = distance_modulus(red_shift_data,.286,.714,69.6,1E2)"
   ]
  },
  {
   "cell_type": "code",
   "execution_count": 19,
   "metadata": {},
   "outputs": [],
   "source": [
    "def likelihood():\n",
    "    pass "
   ]
  },
  {
   "cell_type": "code",
   "execution_count": null,
   "metadata": {},
   "outputs": [],
   "source": []
  }
 ],
 "metadata": {
  "interpreter": {
   "hash": "0324913ca444dec4b3c4e13a0b6055cddcde89e0f835b516dd8b3cd3fec861f1"
  },
  "kernelspec": {
   "display_name": "Python 3",
   "language": "python",
   "name": "python3"
  },
  "language_info": {
   "codemirror_mode": {
    "name": "ipython",
    "version": 3
   },
   "file_extension": ".py",
   "mimetype": "text/x-python",
   "name": "python",
   "nbconvert_exporter": "python",
   "pygments_lexer": "ipython3",
   "version": "3.7.10"
  }
 },
 "nbformat": 4,
 "nbformat_minor": 2
}
