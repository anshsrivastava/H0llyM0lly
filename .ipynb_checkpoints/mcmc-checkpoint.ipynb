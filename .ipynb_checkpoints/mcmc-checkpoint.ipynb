{
 "cells": [
  {
   "cell_type": "code",
   "execution_count": 3,
   "metadata": {},
   "outputs": [],
   "source": [
    "import numpy as np\n",
    "from scipy.constants import c"
   ]
  },
  {
   "cell_type": "markdown",
   "metadata": {},
   "source": [
    "- Data: $X_i \\equiv (\\mu_i, z_i)$\n",
    "\n",
    "- Cosmological parameters: $\\bold{\\Omega} = {\\Omega_{\\Lambda}, \\Omega_{m}, \\Omega_{k}}$\n",
    "\n",
    "- Likelihood: $$P( \\vec X| \\Omega_m, \\Omega_{\\Lambda}, \\Omega_k) \\propto \\exp \\left( -\\frac{1}{2}\\Delta \\vec \\mu \\cdot C^{-1} \\cdot \\Delta \\vec \\mu\\right)$$\n",
    "\n",
    "where\n",
    "$\\Delta  \\mu_{i} = \\mu_{i} -  \\mu_{model}(z_i; \\bold\\Omega)$"
   ]
  },
  {
   "cell_type": "code",
   "execution_count": 14,
   "metadata": {},
   "outputs": [],
   "source": [
    "# vectorized version\n",
    "\n",
    "def integrand(z,omega_k,omega_m,omega_a):\n",
    "    return 1/np.sqrt(omega_m*(1+z)**3 + omega_k*(1+z)**2 + omega_a)\n",
    "    \n",
    "def trapezoidal(upper_limit,omega_m,omega_a,number_steps=10000,lower_limit=0):\n",
    "    \n",
    "    omega_k=1-omega_m-omega_a\n",
    "    \n",
    "    summ = .5*integrand(lower_limit,omega_k,omega_m,omega_a) + .5*integrand(upper_limit,omega_k,omega_m,omega_a)\n",
    "    step_size = (upper_limit-lower_limit)/number_steps\n",
    "    #k_points = arange(lower_limit,upper_limit,h)\n",
    "    #equivalent to \n",
    "    k_points = np.linspace(lower_limit,upper_limit,int(number_steps),endpoint=False)\n",
    "\n",
    "    for _ in k_points:\n",
    "        summ += integrand(_,omega_k,omega_m,omega_a)\n",
    "    return summ*step_size\n",
    "\n",
    "def simpsons(upper_limit,omega_m,omega_a,number_steps=1000,lower_limit=0):\n",
    "    #must have even number of steps\n",
    "    \n",
    "    omega_k=1-omega_m-omega_a\n",
    "    summ = integrand(lower_limit,omega_k,omega_m,omega_a) + integrand(upper_limit,omega_k,omega_m,omega_a)\n",
    "    step_size = (upper_limit-lower_limit)/number_steps\n",
    "    \n",
    "    #sum odd values of i\n",
    "    for i in range(1,number_steps,2):\n",
    "        summ+=4*integrand(lower_limit+i*step_size,omega_k,omega_m,omega_a)\n",
    "        \n",
    "        \n",
    "    #sum even values of i\n",
    "    for i in range(2,number_steps,2):\n",
    "        summ+=2*integrand(lower_limit+i*step_size,omega_k,omega_m,omega_a)\n",
    "        \n",
    "    \n",
    "    return summ*step_size/3\n",
    "\n",
    "def luminosity_dist(z,omega_m,omega_a,H_0,number_steps=10000,method='s'):\n",
    "    \n",
    "    omega_k=1-omega_m-omega_a\n",
    "\n",
    "    d_h = c*1E-3/H_0\n",
    "    \n",
    "    if method == \"t\":\n",
    "        d_c = d_h*trapezoidal(z,omega_m,omega_a,number_steps)\n",
    "    \n",
    "    #Use Simpson's method by default \n",
    "    else:\n",
    "        d_c = d_h*simpsons(z,omega_m,omega_a,number_steps)\n",
    "    # integral value\n",
    "    #1.504993571457544*c*1E-3/H_0*(1+z)\n",
    "    \n",
    "    if omega_k>0:\n",
    "        return d_h*np.sinh(np.sqrt(omega_k)*d_c/d_h)/np.sqrt(omega_k)*(1+z)\n",
    "    \n",
    "    elif omega_k==0:\n",
    "        return d_c*(1+z)\n",
    "    \n",
    "    else:\n",
    "        return d_h*np.sin(np.sqrt(abs(omega_k))*d_c/d_h)/np.sqrt(abs(omega_k))*(1+z)\n",
    "\n",
    "#         \n",
    "\n",
    "def distance_modulus(z,omega_m,omega_a,H_0, number_steps=10000):\n",
    "    luminosity_distance = luminosity_dist(z,omega_m,omega_a,H_0,number_steps)\n",
    "    # to-do: check consistency of units\n",
    "    return 5*np.log(luminosity_distance/10) "
   ]
  },
  {
   "cell_type": "code",
   "execution_count": 18,
   "metadata": {},
   "outputs": [
    {
     "name": "stdout",
     "output_type": "stream",
     "text": [
      "looks good\n",
      "25930.213810032783\n",
      "Reference value: 25924.3\n"
     ]
    }
   ],
   "source": [
    "def test_trapezoidal_vectorization():\n",
    "    zs = np.array([1,2,3])\n",
    "    for z, output in zip(zs, trapezoidal(zs,1,1,5)):\n",
    "        assert output == trapezoidal(z,1,1,5)\n",
    "    print('looks good')\n",
    "\n",
    "\n",
    "def test_luminosity_dist_3():\n",
    "    print(luminosity_dist(3,.286,.714,69.6,100,\"s\"))\n",
    "    print(\"Reference value:\", 25924.3)\n",
    "\n",
    "test_trapezoidal_vectorization()\n",
    "test_luminosity_dist_3()\n"
   ]
  },
  {
   "cell_type": "code",
   "execution_count": 7,
   "metadata": {},
   "outputs": [],
   "source": [
    "import pandas as pd"
   ]
  },
  {
   "cell_type": "code",
   "execution_count": 23,
   "metadata": {},
   "outputs": [],
   "source": [
    "#loading data\n",
    "data=pd.read_csv('lcparam_DS17f.txt',delimiter=' ')\n",
    "cov_data = np.array(pd.read_csv('sys_DS17f.txt'))\n",
    "\n",
    "# create numpy version data\n",
    "red_shift_data = (data['zcmb']).to_numpy()\n",
    "apparent_magnitude_data = (data['mb']).to_numpy() \n",
    "apparent_magnitude_standard_errors = (data['dmb']).to_numpy()\n",
    "cov_matrix = cov_data.reshape(40, 40)\n",
    "\n"
   ]
  },
  {
   "cell_type": "code",
   "execution_count": 24,
   "metadata": {},
   "outputs": [
    {
     "data": {
      "text/plain": [
       "array([   60.96370773,    84.8287338 ,   116.05263239,   145.33526254,\n",
       "         175.80814193,   212.11330064,   251.62471113,   289.23333221,\n",
       "         327.72476094,   370.97568548,   408.86711668,   463.93005034,\n",
       "         498.73264657,   561.10787392,   603.37148652,   664.15601024,\n",
       "         728.37908976,   789.74345752,   866.43930136,   936.05757763,\n",
       "        1024.9005769 ,  1108.36734455,  1215.93074876,  1304.36326014,\n",
       "        1424.12212188,  1549.56118817,  1697.37344747,  1844.83615335,\n",
       "        2005.70139545,  2225.30403458,  2426.57840607,  2683.88328087,\n",
       "        2983.7526815 ,  3384.91314301,  3789.14293105,  4494.50769388,\n",
       "        5248.4255428 ,  6297.43942686,  8699.87478049, 12128.1576226 ])"
      ]
     },
     "execution_count": 24,
     "metadata": {},
     "output_type": "execute_result"
    }
   ],
   "source": [
    "luminosity_dist(red_shift_data,.286,.714,69.6,1E5)\n"
   ]
  },
  {
   "cell_type": "code",
   "execution_count": 25,
   "metadata": {},
   "outputs": [
    {
     "data": {
      "text/plain": [
       "array([ 9.03846819, 10.69024617, 12.25729361, 13.38229068, 14.33404102,\n",
       "       15.27267738, 16.12676821, 16.82324324, 17.4479451 , 18.06775715,\n",
       "       18.55402556, 19.18574347, 19.5474254 , 20.13664041, 20.49973989,\n",
       "       20.97965992, 21.44118274, 21.84561531, 22.30903482, 22.69545948,\n",
       "       23.14882898, 23.54029129, 24.00340009, 24.35442592, 24.79362878,\n",
       "       25.21570986, 25.67126106, 26.08780327, 26.50582004, 27.02531869,\n",
       "       27.45826194, 27.96217459, 28.49175992, 29.12249216, 29.6865502 ,\n",
       "       30.54013162, 31.31549161, 32.22656648, 33.84239409, 35.50350006])"
      ]
     },
     "execution_count": 25,
     "metadata": {},
     "output_type": "execute_result"
    }
   ],
   "source": [
    "mu_model = distance_modulus(red_shift_data,.286,.714,69.6,1E5)"
   ]
  },
  {
   "cell_type": "code",
   "execution_count": null,
   "metadata": {},
   "outputs": [],
   "source": [
    "def likelihood():\n",
    "    pass "
   ]
  }
 ],
 "metadata": {
  "interpreter": {
   "hash": "0324913ca444dec4b3c4e13a0b6055cddcde89e0f835b516dd8b3cd3fec861f1"
  },
  "kernelspec": {
   "display_name": "Python 3",
   "language": "python",
   "name": "python3"
  },
  "language_info": {
   "codemirror_mode": {
    "name": "ipython",
    "version": 3
   },
   "file_extension": ".py",
   "mimetype": "text/x-python",
   "name": "python",
   "nbconvert_exporter": "python",
   "pygments_lexer": "ipython3",
   "version": "3.7.10"
  }
 },
 "nbformat": 4,
 "nbformat_minor": 2
}
