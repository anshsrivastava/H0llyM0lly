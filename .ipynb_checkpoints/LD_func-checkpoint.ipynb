{
 "cells": [
  {
   "cell_type": "code",
   "execution_count": 3,
   "id": "c668f6c7",
   "metadata": {},
   "outputs": [],
   "source": [
    "from numpy import sqrt,sinh, arange,sin\n",
    "from scipy.constants import c\n",
    "\n",
    "def function(z,omega_k,omega_m,omega_a):\n",
    "    return 1/sqrt(omega_m*(1+z)**3 + omega_k*(1+z)**2 + omega_a)\n",
    "    \n",
    "def trapezoidal(upper_limit,omega_m,omega_a,number_steps=1000,lower_limit=0):\n",
    "    \n",
    "    omega_k=1-omega_m-omega_a\n",
    "    \n",
    "    summ = .5*function(lower_limit,omega_k,omega_m,omega_a) + .5*function(upper_limit,omega_k,omega_m,omega_a)\n",
    "    h = (upper_limit-lower_limit)/number_steps\n",
    "    k_points = arange(lower_limit,upper_limit,h)\n",
    "    \n",
    "    for k in k_points:\n",
    "        if k!=0: \n",
    "            summ+=function(k,omega_k,omega_m,omega_a)\n",
    "    return summ*h\n",
    "\n",
    "def luminosity_dist(z,omega_m,omega_a,H_0,number_steps=10000):\n",
    "    \n",
    "    omega_k=1-omega_m-omega_a\n",
    "    \n",
    "    d_h=c*1E-3/H_0\n",
    "    d_c=d_h*trapezoidal(z,omega_m,omega_a,number_steps) # integral value\n",
    "    #1.504993571457544*c*1E-3/H_0*(1+z)\n",
    "    \n",
    "    if omega_k>0:\n",
    "        return d_h*sinh(sqrt(omega_k)*d_c/d_h)/sqrt(omega_k)*(1+z)\n",
    "    \n",
    "    elif omega_k==0:\n",
    "        return d_c*(1+z)\n",
    "    \n",
    "    else:\n",
    "        return d_h*sin(sqrt(abs(omega_k))*d_c/d_h)/sqrt(abs(omega_k))*(1+z)"
   ]
  },
  {
   "cell_type": "code",
   "execution_count": 17,
   "id": "98716369",
   "metadata": {},
   "outputs": [
    {
     "name": "stdout",
     "output_type": "stream",
     "text": [
      "25930.21391202532\n",
      "Reference value: 25924.3\n"
     ]
    }
   ],
   "source": [
    "print(luminosity_dist(3,.286,.714,69.6,1E5))\n",
    "ref=25924.3\n",
    "print(\"Reference value:\",ref)"
   ]
  },
  {
   "cell_type": "code",
   "execution_count": null,
   "id": "9a6103bb",
   "metadata": {},
   "outputs": [],
   "source": []
  }
 ],
 "metadata": {
  "kernelspec": {
   "display_name": "Python 3",
   "language": "python",
   "name": "python3"
  },
  "language_info": {
   "codemirror_mode": {
    "name": "ipython",
    "version": 3
   },
   "file_extension": ".py",
   "mimetype": "text/x-python",
   "name": "python",
   "nbconvert_exporter": "python",
   "pygments_lexer": "ipython3",
   "version": "3.7.10"
  }
 },
 "nbformat": 4,
 "nbformat_minor": 5
}
