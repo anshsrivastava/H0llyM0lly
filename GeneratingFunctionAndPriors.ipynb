{
 "cells": [
  {
   "cell_type": "code",
   "execution_count": 3,
   "id": "9ecbfe7e-f74f-4eda-8ac3-193cc5fc9a02",
   "metadata": {},
   "outputs": [],
   "source": [
    "import numpy as np\n",
    "\n",
    "def priors(omega_m):\n",
    "    return int(omega_m > 0)\n",
    "\n",
    "def generating_function(omega_k, omega_lambda, omega_m, cov = 0.1 * np.identity(3)):\n",
    "    return np.random.multivariate_normal([omega_k, omega_lambda, omega_m], cov)\n",
    "\n",
    "def generating_function(Omega, cov = 0.1 * np.identity(3)):\n",
    "    return np.random.multivariate_normal(Omega, cov)"
   ]
  },
  {
   "cell_type": "code",
   "execution_count": null,
   "id": "95afb4eb-b152-4a0b-b2a0-ed522ff22de2",
   "metadata": {},
   "outputs": [],
   "source": []
  }
 ],
 "metadata": {
  "kernelspec": {
   "display_name": "Python 3 (ipykernel)",
   "language": "python",
   "name": "python3"
  },
  "language_info": {
   "codemirror_mode": {
    "name": "ipython",
    "version": 3
   },
   "file_extension": ".py",
   "mimetype": "text/x-python",
   "name": "python",
   "nbconvert_exporter": "python",
   "pygments_lexer": "ipython3",
   "version": "3.10.2"
  }
 },
 "nbformat": 4,
 "nbformat_minor": 5
}
