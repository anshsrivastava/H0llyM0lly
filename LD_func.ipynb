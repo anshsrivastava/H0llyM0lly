{
 "cells": [
  {
   "cell_type": "code",
   "execution_count": 1,
   "id": "c668f6c7",
   "metadata": {},
   "outputs": [],
   "source": [
    "from numpy import sqrt,sinh, arange,sin, array,zeros\n",
    "from scipy.constants import c\n",
    "from scipy.integrate import trapezoid, simpson\n",
    "\n",
    "def function(z,omega_k,omega_m,omega_a):\n",
    "    return 1/sqrt(omega_m*(1+z)**3 + omega_k*(1+z)**2 + omega_a)\n",
    "    \n",
    "def trapezoidal(upper_limit,omega_m,omega_a,number_steps=1000,lower_limit=0):\n",
    "    \n",
    "    omega_k=1-omega_m-omega_a\n",
    "    \n",
    "    summ = .5*function(lower_limit,omega_k,omega_m,omega_a) + .5*function(upper_limit,omega_k,omega_m,omega_a)\n",
    "    h = (upper_limit-lower_limit)/number_steps\n",
    "    k_points = arange(lower_limit,upper_limit,h)\n",
    "    \n",
    "    for k in k_points:\n",
    "        if k!=0: \n",
    "            summ+=function(k,omega_k,omega_m,omega_a)\n",
    "    return summ*h\n",
    "\n",
    "def simpsons(upper_limit,omega_m,omega_a,number_steps=1000,lower_limit=0):\n",
    "    'Calculates and integral for luminosity distance function, must have even number of steps'\n",
    "    omega_k=1-omega_m-omega_a\n",
    "    num_of_points_test=2\n",
    "    summ = function(lower_limit,omega_k,omega_m,omega_a) + function(upper_limit,omega_k,omega_m,omega_a)\n",
    "    h = (upper_limit-lower_limit)/number_steps\n",
    "    #sum odd values of k\n",
    "    for k in range(1,number_steps,2):\n",
    "        summ+=4*function(lower_limit+k*h,omega_k,omega_m,omega_a)\n",
    "        num_of_points_test+=1\n",
    "    #sum even values of k\n",
    "    for k in range(2,number_steps,2):\n",
    "        summ+=2*function(lower_limit+k*h,omega_k,omega_m,omega_a)\n",
    "        num_of_points_test+=1\n",
    "    print(num_of_points_test)\n",
    "    return summ*h/3\n",
    "\n",
    "def luminosity_dist(z,omega_m,omega_a,H_0,number_steps=10000):\n",
    "    \n",
    "    omega_k=1-omega_m-omega_a\n",
    "    \n",
    "    d_h=c*1E-3/H_0\n",
    "    #d_c=d_h*trapezoidal(z,omega_m,omega_a,number_steps) # integral value\n",
    "    d_c=d_h*simpsons(z,omega_m,omega_a,number_steps) # integral value\n",
    "    #1.504993571457544*c*1E-3/H_0*(1+z)\n",
    "    \n",
    "    if omega_k>0:\n",
    "        return d_h*sinh(sqrt(omega_k)*d_c/d_h)/sqrt(omega_k)*(1+z)\n",
    "    \n",
    "    elif omega_k==0:\n",
    "        return d_c*(1+z)\n",
    "    \n",
    "    else:\n",
    "        return d_h*sin(sqrt(abs(omega_k))*d_c/d_h)/sqrt(abs(omega_k))*(1+z)\n",
    "    \n"
   ]
  },
  {
   "cell_type": "code",
   "execution_count": 2,
   "id": "98716369",
   "metadata": {},
   "outputs": [
    {
     "name": "stdout",
     "output_type": "stream",
     "text": [
      "101\n",
      "25930.213810032783\n",
      "Reference value: 25924.3\n"
     ]
    }
   ],
   "source": [
    "print(luminosity_dist(3,.286,.714,69.6,100))\n",
    "ref=25924.3\n",
    "print(\"Reference value:\",ref)"
   ]
  },
  {
   "cell_type": "code",
   "execution_count": null,
   "id": "9a6103bb",
   "metadata": {},
   "outputs": [],
   "source": []
  },
  {
   "cell_type": "code",
   "execution_count": 35,
   "id": "9df01e40",
   "metadata": {},
   "outputs": [
    {
     "data": {
      "text/plain": [
       "-2.596722836756271e-11"
      ]
     },
     "execution_count": 35,
     "metadata": {},
     "output_type": "execute_result"
    }
   ],
   "source": [
    "1.504993571457544-trapezoidal(3,.286,.714,100000)"
   ]
  },
  {
   "cell_type": "code",
   "execution_count": 36,
   "id": "65ba7e96",
   "metadata": {},
   "outputs": [
    {
     "data": {
      "text/plain": [
       "-1.6209256159527285e-14"
      ]
     },
     "execution_count": 36,
     "metadata": {},
     "output_type": "execute_result"
    }
   ],
   "source": [
    "1.504993571457544-simpsons(3,.286,.714,100000)"
   ]
  },
  {
   "cell_type": "code",
   "execution_count": 72,
   "id": "673289e4",
   "metadata": {},
   "outputs": [],
   "source": [
    "simpson?"
   ]
  },
  {
   "cell_type": "code",
   "execution_count": 78,
   "id": "7053d5ac",
   "metadata": {},
   "outputs": [
    {
     "name": "stdout",
     "output_type": "stream",
     "text": [
      "11\n",
      "6.718888956269709e-05\n",
      "-0.0026118849523264487\n",
      "6.718888956291913e-05\n",
      "11\n",
      "-2.220446049250313e-16\n"
     ]
    }
   ],
   "source": [
    "#testing simpsons and trapezoidal \n",
    "lower_limit=0\n",
    "upper_limit=3\n",
    "number_of_points=10\n",
    "h = (upper_limit-lower_limit)/number_of_points\n",
    "omega_m=.286\n",
    "omega_a=.714\n",
    "omega_k=1-omega_m-omega_a\n",
    "k_points = arange(lower_limit,upper_limit+.1*h,h)\n",
    "\n",
    "f_k=zeros(len(k_points),float)\n",
    "\n",
    "for k in range(len(k_points)):\n",
    "        f_k[k]=function(k_points[k],omega_k,omega_m,omega_a)\n",
    "\n",
    "#simp,numbpoints=simpsons(upper_limit,omega_m,omega_a,number_of_points+1)\n",
    "\n",
    "print(1.504993571457544-simpsons(upper_limit,omega_m,omega_a,number_of_points))\n",
    "print(1.504993571457544-trapezoidal(upper_limit,omega_m,omega_a,number_of_points))\n",
    "print(1.504993571457544-simpson(f_k,None,h,0))\n",
    "\n",
    "print(simpson(f_k,None,h,0)-simpsons(upper_limit,omega_m,omega_a,number_of_points))"
   ]
  },
  {
   "cell_type": "code",
   "execution_count": 41,
   "id": "62faae1e",
   "metadata": {},
   "outputs": [],
   "source": [
    "simpson?"
   ]
  },
  {
   "cell_type": "code",
   "execution_count": null,
   "id": "085bdb5f",
   "metadata": {},
   "outputs": [],
   "source": []
  }
 ],
 "metadata": {
  "kernelspec": {
   "display_name": "Python 3",
   "language": "python",
   "name": "python3"
  },
  "language_info": {
   "codemirror_mode": {
    "name": "ipython",
    "version": 3
   },
   "file_extension": ".py",
   "mimetype": "text/x-python",
   "name": "python",
   "nbconvert_exporter": "python",
   "pygments_lexer": "ipython3",
   "version": "3.7.10"
  }
 },
 "nbformat": 4,
 "nbformat_minor": 5
}
