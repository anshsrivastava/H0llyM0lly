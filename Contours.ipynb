{
 "cells": [
  {
   "cell_type": "code",
   "execution_count": 2,
   "id": "a41ab034",
   "metadata": {},
   "outputs": [],
   "source": [
    "import numpy as np\n",
    "import matplotlib.pyplot as pl\n",
    "from scipy.stats import multivariate_normal"
   ]
  },
  {
   "cell_type": "code",
   "execution_count": 98,
   "id": "679eba64",
   "metadata": {},
   "outputs": [
    {
     "data": {
      "text/plain": [
       "Text(0, 0.5, '$\\\\Omega_\\\\Lambda$')"
      ]
     },
     "execution_count": 98,
     "metadata": {},
     "output_type": "execute_result"
    },
    {
     "data": {
      "image/png": "[encoded data removed]",
      "text/plain": [
       "<Figure size 576x576 with 1 Axes>"
      ]
     },
     "metadata": {
      "needs_background": "light"
     },
     "output_type": "display_data"
    }
   ],
   "source": [
    "\n",
    "x = np.linspace(0, 1, 500)\n",
    "y = np.linspace(0, 1, 500)\n",
    "X, Y = np.meshgrid(x,y)\n",
    "\n",
    "# Multivariate Normal in 2D \n",
    "\n",
    "sigma_x = .1\n",
    "sigma_y = .1\n",
    "\n",
    "Z = -0.5 * (((X-0.3)/sigma_x)**2. + ((Y-0.7)/sigma_y)**2.)\n",
    "Z_max = Z.max()\n",
    "\n",
    "xi2_levels = np.array([11.829,6.1801,2.2977,0]) # confidence contours at 68.27,95.45,99.73% respectively.\n",
    "r = np.sqrt(xi2_levels)\n",
    "levels  = Z_max-xi2_levels/2\n",
    "\n",
    "pl.figure(figsize=(8,8))\n",
    "pl.contourf(X,Y,Z,levels=levels,alpha=.3,cmap='Reds')\n",
    "\n",
    "\n",
    "pl.xlabel(r'$\\Omega_m$',size=20)\n",
    "pl.ylabel(r'$\\Omega_\\Lambda$',size=20)\n"
   ]
  },
  {
   "cell_type": "code",
   "execution_count": 1,
   "id": "5297f077",
   "metadata": {
    "scrolled": false
   },
   "outputs": [
    {
     "ename": "NameError",
     "evalue": "name 'np' is not defined",
     "output_type": "error",
     "traceback": [
      "\u001b[0;31m---------------------------------------------------------------------------\u001b[0m",
      "\u001b[0;31mNameError\u001b[0m                                 Traceback (most recent call last)",
      "\u001b[0;32m<ipython-input-1-b7d7f28b6bb2>\u001b[0m in \u001b[0;36m<module>\u001b[0;34m\u001b[0m\n\u001b[0;32m----> 1\u001b[0;31m \u001b[0;32mdef\u001b[0m \u001b[0mplot_contours\u001b[0m\u001b[0;34m(\u001b[0m\u001b[0mX\u001b[0m\u001b[0;34m,\u001b[0m\u001b[0mY\u001b[0m\u001b[0;34m,\u001b[0m\u001b[0mZ\u001b[0m\u001b[0;34m,\u001b[0m\u001b[0mcmap\u001b[0m\u001b[0;34m=\u001b[0m\u001b[0;34m'Grays'\u001b[0m\u001b[0;34m,\u001b[0m\u001b[0mxi2_levels\u001b[0m\u001b[0;34m=\u001b[0m\u001b[0mnp\u001b[0m\u001b[0;34m.\u001b[0m\u001b[0marray\u001b[0m\u001b[0;34m(\u001b[0m\u001b[0;34m[\u001b[0m\u001b[0;36m11.829\u001b[0m\u001b[0;34m,\u001b[0m\u001b[0;36m6.1801\u001b[0m\u001b[0;34m,\u001b[0m\u001b[0;36m2.2977\u001b[0m\u001b[0;34m,\u001b[0m\u001b[0;36m0\u001b[0m\u001b[0;34m]\u001b[0m\u001b[0;34m)\u001b[0m\u001b[0;34m,\u001b[0m\u001b[0mlabel\u001b[0m\u001b[0;34m=\u001b[0m\u001b[0;34mr\"$\\mathrm{Pantheon}$\"\u001b[0m\u001b[0;34m)\u001b[0m\u001b[0;34m:\u001b[0m\u001b[0;34m\u001b[0m\u001b[0;34m\u001b[0m\u001b[0m\n\u001b[0m\u001b[1;32m      2\u001b[0m \u001b[0;34m\u001b[0m\u001b[0m\n\u001b[1;32m      3\u001b[0m     \u001b[0mlevels\u001b[0m \u001b[0;34m=\u001b[0m \u001b[0mnp\u001b[0m\u001b[0;34m.\u001b[0m\u001b[0mmax\u001b[0m\u001b[0;34m(\u001b[0m\u001b[0mZ\u001b[0m\u001b[0;34m)\u001b[0m \u001b[0;34m-\u001b[0m \u001b[0mxi2_levels\u001b[0m\u001b[0;34m/\u001b[0m\u001b[0;36m2\u001b[0m\u001b[0;34m\u001b[0m\u001b[0;34m\u001b[0m\u001b[0m\n\u001b[1;32m      4\u001b[0m     \u001b[0mi\u001b[0m\u001b[0;34m,\u001b[0m\u001b[0mj\u001b[0m \u001b[0;34m=\u001b[0m \u001b[0mnp\u001b[0m\u001b[0;34m.\u001b[0m\u001b[0munravel_index\u001b[0m\u001b[0;34m(\u001b[0m\u001b[0mnp\u001b[0m\u001b[0;34m.\u001b[0m\u001b[0margmax\u001b[0m\u001b[0;34m(\u001b[0m\u001b[0mZ\u001b[0m\u001b[0;34m)\u001b[0m\u001b[0;34m,\u001b[0m \u001b[0mnp\u001b[0m\u001b[0;34m.\u001b[0m\u001b[0marray\u001b[0m\u001b[0;34m(\u001b[0m\u001b[0mZ\u001b[0m\u001b[0;34m)\u001b[0m\u001b[0;34m.\u001b[0m\u001b[0mshape\u001b[0m\u001b[0;34m)\u001b[0m\u001b[0;34m\u001b[0m\u001b[0;34m\u001b[0m\u001b[0m\n\u001b[1;32m      5\u001b[0m \u001b[0;34m\u001b[0m\u001b[0m\n",
      "\u001b[0;31mNameError\u001b[0m: name 'np' is not defined"
     ]
    }
   ],
   "source": [
    "def plot_contours(X,Y,Z,cmap='Grays',xi2_levels=np.array([11.829,6.1801,2.2977,0]),label=r\"$\\mathrm{Pantheon}$\"):\n",
    "    \n",
    "    levels = np.max(Z) - xi2_levels/2\n",
    "    i,j = np.unravel_index(np.argmax(Z), np.array(Z).shape)\n",
    "    \n",
    "    pl.figure(figsize=(10,10))\n",
    "    pl.contourf(X,Y,Z,levels=levels,alpha=.3,cmap='Reds')\n",
    "    pl.plot([0,1],[1,0],linestyle='--',c='k')\n",
    "    pl.plot([0,1],[0,0.5],linestyle='--',c='k')\n",
    "    pl.xlabel(r'$\\Omega_m$',size=25)\n",
    "    pl.ylabel(r'$\\Omega_\\Lambda$',size=25)\n",
    "    pl.text(X[i,j],Y[i,j],s=label,rotation=45,fontsize=15,color='r')\n",
    "    pl.text(0.38,0.38,s='Flat universe',rotation=-45,fontsize=20,color='k')\n",
    "    pl.title('oCDM Constrains For SN-only Sample.',size=20)\n",
    "\n",
    "plot_contours(X,Y,Z)\n"
   ]
  },
  {
   "cell_type": "code",
   "execution_count": 114,
   "id": "e68764f3",
   "metadata": {},
   "outputs": [],
   "source": [
    "pl.text?"
   ]
  },
  {
   "cell_type": "code",
   "execution_count": null,
   "id": "402be3d8",
   "metadata": {},
   "outputs": [],
   "source": []
  }
 ],
 "metadata": {
  "kernelspec": {
   "display_name": "Python 3",
   "language": "python",
   "name": "python3"
  },
  "language_info": {
   "codemirror_mode": {
    "name": "ipython",
    "version": 3
   },
   "file_extension": ".py",
   "mimetype": "text/x-python",
   "name": "python",
   "nbconvert_exporter": "python",
   "pygments_lexer": "ipython3",
   "version": "3.8.8"
  }
 },
 "nbformat": 4,
 "nbformat_minor": 5
}
