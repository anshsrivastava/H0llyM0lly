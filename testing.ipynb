{
 "cells": [
  {
   "cell_type": "code",
   "execution_count": 1,
   "id": "d8bc077b-5bc2-4dbd-aafc-e3ec57253260",
   "metadata": {},
   "outputs": [],
   "source": [
    "from testing import *"
   ]
  },
  {
   "cell_type": "markdown",
   "id": "ef4a334b-741e-4bcf-bb4a-d7450b410b6a",
   "metadata": {},
   "source": [
    "Testing functions from distance.py:"
   ]
  },
  {
   "cell_type": "code",
   "execution_count": 2,
   "id": "1829cbc4-1100-4556-87e1-672bc6888d8e",
   "metadata": {},
   "outputs": [
    {
     "name": "stdout",
     "output_type": "stream",
     "text": [
      "luminosity distance looks good\n",
      "trapezoidal vectorization looks good\n"
     ]
    },
    {
     "ename": "NameError",
     "evalue": "name 'simpson' is not defined",
     "output_type": "error",
     "traceback": [
      "\u001b[0;31m---------------------------------------------------------------------------\u001b[0m",
      "\u001b[0;31mNameError\u001b[0m                                 Traceback (most recent call last)",
      "Input \u001b[0;32mIn [2]\u001b[0m, in \u001b[0;36m<cell line: 3>\u001b[0;34m()\u001b[0m\n\u001b[1;32m      1\u001b[0m test_luminosity_dist_3()\n\u001b[1;32m      2\u001b[0m test_trapezoidal_vectorization()\n\u001b[0;32m----> 3\u001b[0m \u001b[43mtest_simpsons\u001b[49m\u001b[43m(\u001b[49m\u001b[43m)\u001b[49m\n",
      "File \u001b[0;32m~/Documents/PhDLevel250/H0llyM0lly/testing.py:22\u001b[0m, in \u001b[0;36mtest_simpsons\u001b[0;34m()\u001b[0m\n\u001b[1;32m     20\u001b[0m     f_k[k]\u001b[38;5;241m=\u001b[39mintegrand(k_points[k],omega_k,omega_m,omega_a)\n\u001b[1;32m     21\u001b[0m \u001b[38;5;28;01massert\u001b[39;00m (\u001b[38;5;241m1.504993571457544\u001b[39m\u001b[38;5;241m-\u001b[39msimpsons(upper_limit,omega_m,omega_a,number_of_points)) \u001b[38;5;241m<\u001b[39m \u001b[38;5;241m1E-4\u001b[39m \u001b[38;5;66;03m# Comparing against a 10^-4 tolerance\u001b[39;00m\n\u001b[0;32m---> 22\u001b[0m \u001b[38;5;28;01massert\u001b[39;00m (\u001b[38;5;241m1.504993571457544\u001b[39m\u001b[38;5;241m-\u001b[39m\u001b[43msimpson\u001b[49m(f_k,\u001b[38;5;28;01mNone\u001b[39;00m,h,\u001b[38;5;241m0\u001b[39m)) \u001b[38;5;241m<\u001b[39m \u001b[38;5;241m1E-4\u001b[39m \u001b[38;5;66;03m# Comparing against a 10^-4 tolerance\u001b[39;00m\n\u001b[1;32m     23\u001b[0m \u001b[38;5;28mprint\u001b[39m(\u001b[38;5;124m'\u001b[39m\u001b[38;5;124msimpsons looks good\u001b[39m\u001b[38;5;124m'\u001b[39m)\n",
      "\u001b[0;31mNameError\u001b[0m: name 'simpson' is not defined"
     ]
    }
   ],
   "source": [
    "test_luminosity_dist_3()\n",
    "test_trapezoidal_vectorization()\n",
    "test_simpsons()"
   ]
  },
  {
   "cell_type": "markdown",
   "id": "6f79f197-b979-4b49-8050-27e4befd3378",
   "metadata": {},
   "source": [
    "Testing functions from MCMC.py:"
   ]
  },
  {
   "cell_type": "code",
   "execution_count": null,
   "id": "d6169e59-14f1-47a3-910d-b4d8c2c46ead",
   "metadata": {},
   "outputs": [],
   "source": [
    "test_priors()"
   ]
  },
  {
   "cell_type": "code",
   "execution_count": null,
   "id": "61c65a6e-c609-40ea-b750-9d1c8b5723ce",
   "metadata": {},
   "outputs": [],
   "source": []
  }
 ],
 "metadata": {
  "kernelspec": {
   "display_name": "Python 3 (ipykernel)",
   "language": "python",
   "name": "python3"
  },
  "language_info": {
   "codemirror_mode": {
    "name": "ipython",
    "version": 3
   },
   "file_extension": ".py",
   "mimetype": "text/x-python",
   "name": "python",
   "nbconvert_exporter": "python",
   "pygments_lexer": "ipython3",
   "version": "3.10.4"
  }
 },
 "nbformat": 4,
 "nbformat_minor": 5
}
