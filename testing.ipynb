{
 "cells": [
  {
   "cell_type": "code",
   "execution_count": 1,
   "id": "d8bc077b-5bc2-4dbd-aafc-e3ec57253260",
   "metadata": {},
   "outputs": [],
   "source": [
    "from testing import *"
   ]
  },
  {
   "cell_type": "markdown",
   "id": "ef4a334b-741e-4bcf-bb4a-d7450b410b6a",
   "metadata": {},
   "source": [
    "Testing functions from distance.py:"
   ]
  },
  {
   "cell_type": "code",
   "execution_count": 2,
   "id": "1829cbc4-1100-4556-87e1-672bc6888d8e",
   "metadata": {},
   "outputs": [
    {
     "name": "stdout",
     "output_type": "stream",
     "text": [
      "luminosity distance looks good\n",
      "trapezoidal vectorization looks good\n",
      "simpsons looks good\n",
      "Passed 5 out of 5 tests for integrand\n",
      "Passed 1 out of 1 test cases for distance_modulus\n"
     ]
    }
   ],
   "source": [
    "test_luminosity_dist_3()\n",
    "test_trapezoidal_vectorization()\n",
    "test_simpsons()\n",
    "test_integrand()\n",
    "test_distance_modulus()"
   ]
  },
  {
   "cell_type": "markdown",
   "id": "6f79f197-b979-4b49-8050-27e4befd3378",
   "metadata": {},
   "source": [
    "Testing functions from MCMC.py:"
   ]
  },
  {
   "cell_type": "code",
   "execution_count": 3,
   "id": "d6169e59-14f1-47a3-910d-b4d8c2c46ead",
   "metadata": {},
   "outputs": [
    {
     "name": "stdout",
     "output_type": "stream",
     "text": [
      "7 out of 7 test cases passed for log_priors\n"
     ]
    },
    {
     "ename": "AssertionError",
     "evalue": "",
     "output_type": "error",
     "traceback": [
      "\u001b[0;31m---------------------------------------------------------------------------\u001b[0m",
      "\u001b[0;31mAssertionError\u001b[0m                            Traceback (most recent call last)",
      "Input \u001b[0;32mIn [3]\u001b[0m, in \u001b[0;36m<cell line: 2>\u001b[0;34m()\u001b[0m\n\u001b[1;32m      1\u001b[0m test_priors()\n\u001b[0;32m----> 2\u001b[0m \u001b[43mtest_generator\u001b[49m\u001b[43m(\u001b[49m\u001b[43m)\u001b[49m\n",
      "File \u001b[0;32m~/Documents/PhDLevel250/H0llyM0lly/testing.py:93\u001b[0m, in \u001b[0;36mtest_generator\u001b[0;34m()\u001b[0m\n\u001b[1;32m     91\u001b[0m Omega \u001b[38;5;241m=\u001b[39m [\u001b[38;5;241m1\u001b[39m,\u001b[38;5;241m2\u001b[39m,\u001b[38;5;241m3\u001b[39m]\n\u001b[1;32m     92\u001b[0m numpyres \u001b[38;5;241m=\u001b[39m np\u001b[38;5;241m.\u001b[39mrandom\u001b[38;5;241m.\u001b[39mmultivariate_normal(Omega, \u001b[38;5;241m0.01\u001b[39m \u001b[38;5;241m*\u001b[39m np\u001b[38;5;241m.\u001b[39midentity(\u001b[38;5;241m3\u001b[39m))\n\u001b[0;32m---> 93\u001b[0m \u001b[38;5;28;01massert\u001b[39;00m np\u001b[38;5;241m.\u001b[39mallclose(generator(Omega), numpyres, rtol \u001b[38;5;241m=\u001b[39m \u001b[38;5;241m1E-4\u001b[39m, atol \u001b[38;5;241m=\u001b[39m \u001b[38;5;241m1E-2\u001b[39m) \u001b[38;5;66;03m# Checking if the arrays are close\u001b[39;00m\n\u001b[1;32m     94\u001b[0m \u001b[38;5;28mprint\u001b[39m(\u001b[38;5;124m\"\u001b[39m\u001b[38;5;124m1 test case passed for generator\u001b[39m\u001b[38;5;124m\"\u001b[39m)\n",
      "\u001b[0;31mAssertionError\u001b[0m: "
     ]
    }
   ],
   "source": [
    "test_priors()\n",
    "test_generator()"
   ]
  },
  {
   "cell_type": "code",
   "execution_count": null,
   "id": "61c65a6e-c609-40ea-b750-9d1c8b5723ce",
   "metadata": {},
   "outputs": [],
   "source": []
  }
 ],
 "metadata": {
  "kernelspec": {
   "display_name": "Python 3 (ipykernel)",
   "language": "python",
   "name": "python3"
  },
  "language_info": {
   "codemirror_mode": {
    "name": "ipython",
    "version": 3
   },
   "file_extension": ".py",
   "mimetype": "text/x-python",
   "name": "python",
   "nbconvert_exporter": "python",
   "pygments_lexer": "ipython3",
   "version": "3.10.4"
  }
 },
 "nbformat": 4,
 "nbformat_minor": 5
}
