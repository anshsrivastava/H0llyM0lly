{
 "cells": [
  {
   "cell_type": "code",
   "execution_count": 1,
   "id": "d8bc077b-5bc2-4dbd-aafc-e3ec57253260",
   "metadata": {},
   "outputs": [],
   "source": [
    "from testing import *"
   ]
  },
  {
   "cell_type": "markdown",
   "id": "ef4a334b-741e-4bcf-bb4a-d7450b410b6a",
   "metadata": {},
   "source": [
    "Testing functions from distance.py:"
   ]
  },
  {
   "cell_type": "code",
   "execution_count": 2,
   "id": "1829cbc4-1100-4556-87e1-672bc6888d8e",
   "metadata": {},
   "outputs": [
    {
     "name": "stdout",
     "output_type": "stream",
     "text": [
      "luminosity distance looks good\n",
      "trapezoidal vectorization looks good\n",
      "simpsons looks good\n"
     ]
    }
   ],
   "source": [
    "test_luminosity_dist_3()\n",
    "test_trapezoidal_vectorization()\n",
    "test_simpsons()"
   ]
  },
  {
   "cell_type": "markdown",
   "id": "6f79f197-b979-4b49-8050-27e4befd3378",
   "metadata": {},
   "source": [
    "Testing functions from MCMC.py:"
   ]
  },
  {
   "cell_type": "code",
   "execution_count": 3,
   "id": "d6169e59-14f1-47a3-910d-b4d8c2c46ead",
   "metadata": {},
   "outputs": [
    {
     "name": "stdout",
     "output_type": "stream",
     "text": [
      "7 out of 7 test cases passed for log_priors\n"
     ]
    }
   ],
   "source": [
    "test_priors()"
   ]
  },
  {
   "cell_type": "code",
   "execution_count": null,
   "id": "61c65a6e-c609-40ea-b750-9d1c8b5723ce",
   "metadata": {},
   "outputs": [],
   "source": []
  }
 ],
 "metadata": {
  "kernelspec": {
   "display_name": "Python 3 (ipykernel)",
   "language": "python",
   "name": "python3"
  },
  "language_info": {
   "codemirror_mode": {
    "name": "ipython",
    "version": 3
   },
   "file_extension": ".py",
   "mimetype": "text/x-python",
   "name": "python",
   "nbconvert_exporter": "python",
   "pygments_lexer": "ipython3",
   "version": "3.10.4"
  }
 },
 "nbformat": 4,
 "nbformat_minor": 5
}
